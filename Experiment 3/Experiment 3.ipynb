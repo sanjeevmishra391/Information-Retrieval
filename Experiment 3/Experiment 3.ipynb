{
 "cells": [
  {
   "cell_type": "code",
   "execution_count": null,
   "id": "617d2e5b",
   "metadata": {},
   "outputs": [],
   "source": [
    "from google.colab import drive\n",
    "from nltk.corpus import stopwords\n",
    "import nltk\n",
    "from collections import defaultdict\n",
    "import re\n",
    "from nltk.stem.porter import PorterStemmer\n",
    "porter = PorterStemmer()\n",
    "import csv\n",
    "import gc\n",
    "import sys\n",
    "csv.field_size_limit(sys.maxsize)"
   ]
  },
  {
   "cell_type": "code",
   "execution_count": null,
   "id": "18a03e2c",
   "metadata": {},
   "outputs": [],
   "source": [
    "drive.mount('/content/drive')\n",
    "# going to our folder\n",
    "% cd /content/drive/MyDrive/"
   ]
  },
  {
   "cell_type": "code",
   "execution_count": null,
   "id": "ec9925ae",
   "metadata": {},
   "outputs": [],
   "source": [
    "word_doc_index = {}\n",
    "with open('./IROUTPUTS_v2/merged.txt') as f:\n",
    "  next(f) # I have one empty line\n",
    "  for line in f:\n",
    "    word, *docs = line.strip().split(' ')\n",
    "    word_doc_index[word] = tuple(docs) # tuple saves a little bit of memory since its read only"
   ]
  },
  {
   "cell_type": "code",
   "execution_count": null,
   "id": "58253b4d",
   "metadata": {},
   "outputs": [],
   "source": [
    "del word_doc_index\n",
    "gc.collect()"
   ]
  },
  {
   "cell_type": "code",
   "execution_count": null,
   "id": "151c81f9",
   "metadata": {},
   "outputs": [],
   "source": [
    "doc_id_to_title = {}\n",
    "shelf_to_title = defaultdict(list)\n",
    "with open('./gutenberg_data.csv') as f:\n",
    "  next(f)\n",
    "  csv_file = csv.reader(f)\n",
    "  for line in csv_file:\n",
    "    title, author, link, id, bookshelf, text = line\n",
    "    doc_id_to_title[id] = title\n",
    "\n",
    "with open('./gutenberg_metadata.csv') as f:\n",
    "  next(f)\n",
    "  csv_file = csv.reader(f)\n",
    "  for line in csv_file:\n",
    "    title, author, link, bookshelf = line\n",
    "    shelf_to_title[bookshelf].append(title)"
   ]
  },
  {
   "cell_type": "code",
   "execution_count": null,
   "id": "3b1fb70b",
   "metadata": {},
   "outputs": [],
   "source": [
    "def remove_symbols(line):\n",
    "    return re.sub('[^A-Za-z0-9\\s]+', '', line).lower()\n",
    "def preprocess_word(word):\n",
    "  word = word.lower()\n",
    "  return remove_symbols(porter.stem(word))\n",
    "preprocess_word('happily')"
   ]
  },
  {
   "cell_type": "code",
   "execution_count": null,
   "id": "b60313de",
   "metadata": {},
   "outputs": [],
   "source": [
    "def query(comes_with=[], doesnt_come_with=[], shelf=None):\n",
    "  all_docs = set()\n",
    "  for word in comes_with:\n",
    "    word = preprocess_word(word)\n",
    "    docs = word_doc_index.get(word, [])\n",
    "    # below line can check if it has atleast one word, then accept the doc\n",
    "    # all_docs.update(set(docs)) # <= this line can work for unioning\n",
    "    if all_docs:\n",
    "      all_docs.intersection_update(set(docs)) # this operation will ensure that we want the doc to HAVE ALL THE WORDS\n",
    "    else:\n",
    "      all_docs.update(set(docs)) # in case we don't have anything in common\n",
    "    if not all_docs:\n",
    "      break\n",
    "    # moreover we can even break if first for first N words there are no docs in common\n",
    "  \n",
    "  negation_docs = set()\n",
    "  for word in doesnt_come_with:\n",
    "    word = preprocess_word(word)\n",
    "    docs = word_doc_index.get(word, [])\n",
    "    negation_docs.update(set(docs))\n",
    "  # removing the docs which have all terms which we dont want\n",
    "  if negation_docs:\n",
    "    all_docs.difference_update(set(docs)) # remove docs if they contain this word\n",
    "\n",
    "  doc_titles = [doc_id_to_title[i] for i in all_docs]\n",
    "  \n",
    "  if shelf:\n",
    "    shelf_docs = shelf_to_title.get(shelf, [])\n",
    "    filtered_docs = [i for i in doc_titles if i in shelf_docs]\n",
    "    return filtered_docs\n",
    "  \n",
    "  return doc_titles\n",
    "\n",
    "# above step highly depends on what we are doing with word while storing\n",
    "# moreover we can do mapping on these doc_ids too\n",
    "query(comes_with=['fox', 'deer', 'human'], shelf='Animal')\n",
    "\n",
    "\n",
    "matx = [title, result, bookshelf, author]\n",
    "w = [wt, wr, wb, wa]\n",
    "expected = [1 1 1 1 0]\n",
    "expected =  w*matx\n",
    "Ax = b\n",
    "wt + wr + wb + wa = 1\n",
    "text = 0.6\n",
    "title, result, bookshelf, author = 0.1\n",
    "w_text * text + w_title * title = result\n",
    "if result > 0.5:\n",
    "  result = 1\n",
    "else:\n",
    "  result = 0\n",
    "\n",
    "text = 0.7, title = 0.3\n",
    "\n",
    "A * [w_t w_ti w_a w_b] = y\n",
    "x = A(-1) * y "
   ]
  }
 ],
 "metadata": {
  "kernelspec": {
   "display_name": "Python 3",
   "language": "python",
   "name": "python3"
  },
  "language_info": {
   "codemirror_mode": {
    "name": "ipython",
    "version": 3
   },
   "file_extension": ".py",
   "mimetype": "text/x-python",
   "name": "python",
   "nbconvert_exporter": "python",
   "pygments_lexer": "ipython3",
   "version": "3.8.8"
  }
 },
 "nbformat": 4,
 "nbformat_minor": 5
}
